{
 "cells": [
  {
   "cell_type": "code",
   "execution_count": 34,
   "metadata": {},
   "outputs": [],
   "source": [
    "from ultralytics import YOLO\n",
    "import os\n",
    "from PIL import Image\n",
    "import numpy as np\n",
    "import torch\n",
    "import torch.nn as nn\n",
    "import torch.optim as optim\n",
    "from torch.utils.data import Dataset\n",
    "\n",
    "import torchvision\n",
    "from torchvision import transforms\n",
    "import torchvision.transforms as T\n",
    "import torchvision.transforms.functional as F\n"
   ]
  },
  {
   "cell_type": "code",
   "execution_count": 19,
   "metadata": {},
   "outputs": [],
   "source": [
    "class ShoppingCartDataset(Dataset):\n",
    "    def __init__(self, images_dir, labels_dir, transform=None, save_dir=None):\n",
    "        self.images_dir = images_dir\n",
    "        self.labels_dir = labels_dir\n",
    "        self.save_dir = save_dir\n",
    "        self.transform = transform\n",
    "        self.image_files = [f for f in os.listdir(images_dir) if f.endswith(('.jpg', '.png'))]\n",
    "        if self.save_dir and not os.path.exists(self.save_dir):\n",
    "            os.makedirs(self.save_dir)\n",
    "    \n",
    "    def __len__(self):\n",
    "        return len(self.image_files)\n",
    "    \n",
    "    def __getitem__(self, idx):\n",
    "        img_name = self.image_files[idx]\n",
    "        img_path = os.path.join(self.images_dir, img_name)\n",
    "        label_path = os.path.join(self.labels_dir, img_name.replace('.jpg', '.txt').replace('.png', '.txt'))\n",
    "        \n",
    "        image = Image.open(img_path).convert('RGB')\n",
    "        original_size = image.size\n",
    "        if self.transform:\n",
    "            image = self.transform(image)\n",
    "        \n",
    "        if self.save_dir:\n",
    "            save_path = os.path.join(self.save_dir, img_name)\n",
    "            image_pil = F.to_pil_image(image)\n",
    "            image_pil.save(save_path)\n",
    "        \n",
    "        with open(label_path, 'r') as file:\n",
    "            label = file.readline().strip().split()\n",
    "        label = torch.tensor([float(x) for x in label], dtype=torch.float32)\n",
    "\n",
    "        return image, label, original_size"
   ]
  },
  {
   "cell_type": "code",
   "execution_count": 29,
   "metadata": {},
   "outputs": [],
   "source": [
    "def get_transforms(resize, mean_rgb, std_rgb, tf=None):\n",
    "    return {\n",
    "    \"train\": transforms.Compose([\n",
    "        # transforms.Resize(resize),\n",
    "        transforms.ColorJitter(brightness=0.1, contrast=0.1, saturation=0.1, hue=0.1),\n",
    "        transforms.ToTensor(),\n",
    "        transforms.Normalize(mean_rgb, std_rgb)\n",
    "    ]),\n",
    "\n",
    "    \"test\": transforms.Compose([\n",
    "        transforms.Resize(resize),\n",
    "        transforms.CenterCrop(resize),\n",
    "        transforms.RandomHorizontalFlip(),\n",
    "        transforms.ToTensor(),\n",
    "        transforms.Normalize(mean_rgb, std_rgb)\n",
    "    ])\n",
    "}"
   ]
  },
  {
   "cell_type": "markdown",
   "metadata": {},
   "source": [
    "## Augumentation"
   ]
  },
  {
   "cell_type": "code",
   "execution_count": 31,
   "metadata": {},
   "outputs": [],
   "source": [
    "# Perform Augumentations\n",
    "resize = (640, 640) # TODO: Change here if Cart1 or 5\n",
    "mean_rgb = [0.485,0.456,0.406] # TODO: Need update\n",
    "std_rgb = [0.229,0.224,0.225] # TODO: Need update\n",
    "transform = get_transforms(resize, mean_rgb, std_rgb)\n",
    "\n",
    "train_dataset = ShoppingCartDataset(\n",
    "    \"../datasets/Shopping-Cart-1/train/images\",\n",
    "    \"../datasets/Shopping-Cart-1/train/labels\",\n",
    "    transform=transform[\"train\"],\n",
    "    save_dir=\"../datasets/Shopping-Cart-1/train/transformed_images\"\n",
    ")\n",
    "\n",
    "test_dataset = ShoppingCartDataset(\n",
    "    \"../datasets/Shopping-Cart-1/test/images\",\n",
    "    \"../datasets/Shopping-Cart-1/test/labels\",\n",
    "    transform=transform[\"test\"],\n",
    "    save_dir=\"../datasets/Shopping-Cart-1/test/transformed_images\"\n",
    ")\n",
    "\n",
    "# load and save each\n",
    "for i in range(len(train_dataset)):\n",
    "    train_dataset[i]\n",
    "\n",
    "for j in range(len(test_dataset)):\n",
    "    test_dataset[j]"
   ]
  },
  {
   "cell_type": "markdown",
   "metadata": {},
   "source": [
    "# Calculate R, G, B Stat"
   ]
  },
  {
   "cell_type": "code",
   "execution_count": null,
   "metadata": {},
   "outputs": [],
   "source": [
    "def statsRGB(dir):\n",
    "    means_r = []\n",
    "    means_g = []\n",
    "    means_b = []\n",
    "    stds_r = []\n",
    "    stds_g = []\n",
    "    stds_b = []\n",
    "\n",
    "    for filename in os.listdir(dir):\n",
    "        if filename.endswith('.jpg'):\n",
    "            img_path = os.path.join(dir, filename)\n",
    "            with Image.open(img_path) as img:\n",
    "                img = img.convert('RGB')\n",
    "                img_array = np.array(img)\n",
    "\n",
    "                means_r.append(np.mean(img_array[:, :, 0]))\n",
    "                means_g.append(np.mean(img_array[:, :, 1]))\n",
    "                means_b.append(np.mean(img_array[:, :, 2]))\n",
    "                stds_r.append(np.std(img_array[:, :, 0]))\n",
    "                stds_g.append(np.std(img_array[:, :, 1]))\n",
    "                stds_b.append(np.std(img_array[:, :, 2]))\n",
    "\n",
    "    overall_mean_r = np.mean(means_r)\n",
    "    overall_mean_g = np.mean(means_g)\n",
    "    overall_mean_b = np.mean(means_b)\n",
    "    overall_std_r = np.mean(stds_r)\n",
    "    overall_std_g = np.mean(stds_g)\n",
    "    overall_std_b = np.mean(stds_b)\n",
    "\n",
    "    return (overall_mean_r, overall_mean_g, overall_mean_b), (overall_std_r, overall_std_g, overall_std_b)\n",
    "\n",
    "# usage: statsRGB(\"../datasets/..\")"
   ]
  }
 ],
 "metadata": {
  "kernelspec": {
   "display_name": "vision",
   "language": "python",
   "name": "python3"
  },
  "language_info": {
   "codemirror_mode": {
    "name": "ipython",
    "version": 3
   },
   "file_extension": ".py",
   "mimetype": "text/x-python",
   "name": "python",
   "nbconvert_exporter": "python",
   "pygments_lexer": "ipython3",
   "version": "3.11.8"
  }
 },
 "nbformat": 4,
 "nbformat_minor": 2
}
